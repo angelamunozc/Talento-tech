{
  "cells": [
    {
      "cell_type": "markdown",
      "metadata": {
        "id": "view-in-github",
        "colab_type": "text"
      },
      "source": [
        "<a href=\"https://colab.research.google.com/github/angelamunozc/Talento-tech/blob/main/entrenamiento/Diccionarios_Pandas_Ciclos_Funciones.ipynb\" target=\"_parent\"><img src=\"https://colab.research.google.com/assets/colab-badge.svg\" alt=\"Open In Colab\"/></a>"
      ]
    },
    {
      "cell_type": "markdown",
      "id": "0b5bb01d",
      "metadata": {
        "id": "0b5bb01d"
      },
      "source": [
        "# 🧠 IA Innovador — Clase práctica\n",
        "**Tema:** Estructuras de datos (énfasis en diccionarios) ➜ Tablas con Pandas ➜ Ciclos ➜ Funciones ➜ Laboratorio final  \n",
        "**Duración total:** 3 horas  \n",
        "**Formato:** Google Colab  \n",
        "**Fecha de preparación:** 2025-08-14\n",
        "\n",
        "---\n",
        "\n",
        "## Objetivos\n",
        "- Comprender y manipular **diccionarios** en Python.\n",
        "- Crear **tablas** a partir de listas de diccionarios usando **pandas**.\n",
        "- Recorrer datos con **ciclos** (`for`, `while`).\n",
        "- Crear y usar **funciones**.\n",
        "- Integrar todo en un **laboratorio final**.\n",
        "\n",
        "By **Ing. Engler Gonzalez **\n",
        "> 💡 Sugerencia: ejecuta celda por celda y lee las instrucciones antes de correr el código."
      ]
    },
    {
      "cell_type": "markdown",
      "id": "6efb0b6d",
      "metadata": {
        "id": "6efb0b6d"
      },
      "source": [
        "## 0) Configuración rápida"
      ]
    },
    {
      "cell_type": "code",
      "execution_count": null,
      "id": "f1197f77",
      "metadata": {
        "id": "f1197f77"
      },
      "outputs": [],
      "source": [
        "import pandas as pd"
      ]
    },
    {
      "cell_type": "markdown",
      "id": "f8bc0a9b",
      "metadata": {
        "id": "f8bc0a9b"
      },
      "source": [
        "## 1) Diccionarios (45 min)\n",
        "Un **diccionario** almacena pares **clave → valor**.\n",
        "\n",
        "### Ejemplo guiado"
      ]
    },
    {
      "cell_type": "code",
      "execution_count": null,
      "id": "23f4a4ad",
      "metadata": {
        "colab": {
          "base_uri": "https://localhost:8080/"
        },
        "id": "23f4a4ad",
        "outputId": "734a8ec7-b8cd-46ac-eaba-69612911c94d"
      },
      "outputs": [
        {
          "output_type": "stream",
          "name": "stdout",
          "text": [
            "Ana\n"
          ]
        }
      ],
      "source": [
        "# Ejemplo: crear y leer un diccionario\n",
        "estudiante = {\n",
        "    \"nombre\": \"Ana\",\n",
        "    \"edad\": 20,\n",
        "    \"curso\": \"Python\"\n",
        "}\n",
        "\n",
        "# Imprime un valor por su clave\n",
        "print(estudiante[\"nombre\"])  # Esperado: Ana"
      ]
    },
    {
      "cell_type": "markdown",
      "id": "714280e7",
      "metadata": {
        "id": "714280e7"
      },
      "source": [
        "### Operaciones básicas\n",
        "- Agregar/modificar elementos\n",
        "- Eliminar elementos\n",
        "- Recorrer el diccionario"
      ]
    },
    {
      "cell_type": "code",
      "execution_count": null,
      "id": "54a0aca3",
      "metadata": {
        "colab": {
          "base_uri": "https://localhost:8080/"
        },
        "id": "54a0aca3",
        "outputId": "55c93e5a-fd5d-4bbb-8770-1abf4c76f783"
      },
      "outputs": [
        {
          "output_type": "stream",
          "name": "stdout",
          "text": [
            "El diccionario con nombre 'Carlos' se encuentra en el índice: 2\n",
            "Diccionario encontrado: {'nombre': 'Carlos', 'edad': 23}\n"
          ]
        }
      ],
      "source": [
        "# 👉 Completa las líneas marcadas con TODO\n",
        "persona = {\"nombre\": \"Luis\", \"edad\": 22}\n",
        "\n",
        "# Agrega una clave \"ciudad\" con el valor \"Pasto\"\n",
        "# TODO: persona[\"ciudad\"] = ???\n",
        "persona[\"ciudad\"] = \"Pasto\"\n",
        "\n",
        "# Modifica la edad a 23\n",
        "persona\n",
        "\n",
        "# Elimina la clave \"nombre\"\n",
        "# TODO\n",
        "\n",
        "# Recorre el diccionario e imprime \"clave: valor\" por línea\n",
        "# TODO"
      ]
    },
    {
      "cell_type": "markdown",
      "id": "1acf9b0b",
      "metadata": {
        "id": "1acf9b0b"
      },
      "source": [
        "### Mini–reto 1\n",
        "Crea un diccionario `producto` con las claves: **\"id\"**, **\"nombre\"**, **\"precio\"** y **\"stock\"**.  \n",
        "Luego:\n",
        "1. Incrementa el `stock` en 5.\n",
        "2. Cambia el `precio` (por ejemplo, descuéntalo un 10%).\n",
        "3. Imprime cada par *clave: valor*."
      ]
    },
    {
      "cell_type": "code",
      "execution_count": null,
      "id": "441b712f",
      "metadata": {
        "id": "441b712f"
      },
      "outputs": [],
      "source": [
        "# Escribe tu solución aquí\n",
        "# producto = {...}\n",
        "# TODO"
      ]
    },
    {
      "cell_type": "markdown",
      "id": "f2046b18",
      "metadata": {
        "id": "f2046b18"
      },
      "source": [
        "## 2) De diccionarios a tablas con pandas (40 min)\n",
        "**pandas** nos permite trabajar con datos como si fueran tablas de Excel.\n",
        "\n",
        "### Ejemplo guiado"
      ]
    },
    {
      "cell_type": "code",
      "execution_count": null,
      "id": "91835fb5",
      "metadata": {
        "id": "91835fb5"
      },
      "outputs": [],
      "source": [
        "import pandas as pd\n",
        "\n",
        "datos = [\n",
        "    {\"nombre\": \"Ana\", \"edad\": 20, \"nota\": 4.5},\n",
        "    {\"nombre\": \"Luis\", \"edad\": 22, \"nota\": 3.8},\n",
        "    {\"nombre\": \"María\", \"edad\": 21, \"nota\": 4.2},\n",
        "]\n",
        "\n",
        "df = pd.DataFrame(datos)\n",
        "df"
      ]
    },
    {
      "cell_type": "markdown",
      "id": "4d6ffef6",
      "metadata": {
        "id": "4d6ffef6"
      },
      "source": [
        "### Operaciones básicas con `DataFrame`"
      ]
    },
    {
      "cell_type": "code",
      "execution_count": null,
      "id": "4f5d45ff",
      "metadata": {
        "id": "4f5d45ff"
      },
      "outputs": [],
      "source": [
        "# Ver primeras filas\n",
        "df.head()"
      ]
    },
    {
      "cell_type": "code",
      "execution_count": null,
      "id": "de9cfed7",
      "metadata": {
        "id": "de9cfed7"
      },
      "outputs": [],
      "source": [
        "# Seleccionar una columna\n",
        "df[\"nombre\"]"
      ]
    },
    {
      "cell_type": "code",
      "execution_count": null,
      "id": "f9d73363",
      "metadata": {
        "id": "f9d73363"
      },
      "outputs": [],
      "source": [
        "# Estadísticos rápidos\n",
        "df.describe()"
      ]
    },
    {
      "cell_type": "markdown",
      "id": "f2b27116",
      "metadata": {
        "id": "f2b27116"
      },
      "source": [
        "### Mini–reto 2\n",
        "1. Crea una lista de 4 diccionarios con `nombre`, `edad` y `nota`.\n",
        "2. Conviértela a `DataFrame`.\n",
        "3. Muestra solo la columna `nota`.\n",
        "4. Calcula el **promedio** de `nota`."
      ]
    },
    {
      "cell_type": "code",
      "execution_count": null,
      "id": "f2a7b306",
      "metadata": {
        "id": "f2a7b306"
      },
      "outputs": [],
      "source": [
        "# Escribe tu solución aquí\n",
        "# datos2 = [...]\n",
        "# df2 = pd.DataFrame(datos2)\n",
        "# df2[\"nota\"]\n",
        "# df2[\"nota\"].mean()\n",
        "# TODO"
      ]
    },
    {
      "cell_type": "markdown",
      "id": "b91f928d",
      "metadata": {
        "id": "b91f928d"
      },
      "source": [
        "## 3) Ciclos: for y while (30 min)\n",
        "Sirven para **repetir** acciones."
      ]
    },
    {
      "cell_type": "code",
      "execution_count": null,
      "id": "1a9bee1b",
      "metadata": {
        "id": "1a9bee1b"
      },
      "outputs": [],
      "source": [
        "# for con range\n",
        "for i in range(3):\n",
        "    print(\"Repetición\", i)"
      ]
    },
    {
      "cell_type": "code",
      "execution_count": null,
      "id": "000b14d7",
      "metadata": {
        "id": "000b14d7"
      },
      "outputs": [],
      "source": [
        "# while con contador\n",
        "contador = 0\n",
        "while contador < 3:\n",
        "    print(\"Contador:\", contador)\n",
        "    contador += 1"
      ]
    },
    {
      "cell_type": "markdown",
      "id": "09dca2b5",
      "metadata": {
        "id": "09dca2b5"
      },
      "source": [
        "### Mini–reto 3\n",
        "Usando un `for`, recorre el `DataFrame df` y imprime el texto:  \n",
        "`\"Nombre: <nombre> - Nota: <nota>\"` por cada fila."
      ]
    },
    {
      "cell_type": "code",
      "execution_count": null,
      "id": "2fa4eccd",
      "metadata": {
        "id": "2fa4eccd"
      },
      "outputs": [],
      "source": [
        "# Pista: puedes iterar sobre df.iterrows()\n",
        "# for idx, fila in df.iterrows():\n",
        "#     print(\"Nombre:\", fila[\"nombre\"], \"- Nota:\", fila[\"nota\"])\n",
        "# TODO"
      ]
    },
    {
      "cell_type": "markdown",
      "id": "b8dd35ba",
      "metadata": {
        "id": "b8dd35ba"
      },
      "source": [
        "## 4) Funciones (30 min)\n",
        "Una función encapsula lógica para **reutilizar** código."
      ]
    },
    {
      "cell_type": "code",
      "execution_count": null,
      "id": "2f31f0b0",
      "metadata": {
        "id": "2f31f0b0"
      },
      "outputs": [],
      "source": [
        "# Ejemplo simple\n",
        "def saludar(nombre):\n",
        "    print(f\"Hola {nombre}, ¡bienvenido!\")\n",
        "\n",
        "# Prueba\n",
        "saludar(\"Ana\")"
      ]
    },
    {
      "cell_type": "markdown",
      "id": "f72c198d",
      "metadata": {
        "id": "f72c198d"
      },
      "source": [
        "### Mini–reto 4\n",
        "Crea una función `filtrar_aprobados(df, umbral=4.0)` que reciba un DataFrame y retorne solo las filas con `nota >= umbral`."
      ]
    },
    {
      "cell_type": "code",
      "execution_count": null,
      "id": "f83c965c",
      "metadata": {
        "id": "f83c965c"
      },
      "outputs": [],
      "source": [
        "# Escribe tu función aquí\n",
        "# def filtrar_aprobados(df, umbral=4.0):\n",
        "#     ...\n",
        "# return df_filtrado\n",
        "# TODO\n",
        "\n",
        "# Prueba con df\n",
        "# filtrar_aprobados(df)\n",
        "# TODO"
      ]
    },
    {
      "cell_type": "markdown",
      "id": "3fa70032",
      "metadata": {
        "id": "3fa70032"
      },
      "source": [
        "## 5) 🧪 Laboratorio Final Integrador (35–40 min)\n",
        "\n",
        "### Objetivo\n",
        "Integrar **diccionarios + pandas + ciclos + funciones**.\n",
        "\n",
        "### Instrucciones\n",
        "1. Crea una **lista de 6 diccionarios** con `nombre`, `edad`, `nota` (decimal) y `ciudad`.\n",
        "2. Conviértela a `DataFrame` (`df_lab`).\n",
        "3. Recorre la tabla e imprime `\"Nombre - Ciudad - Nota\"`.\n",
        "4. Crea una función `mejores(df, umbral)` que **retorne** un nuevo DataFrame con notas `>= umbral`.\n",
        "5. Aplica `mejores(df_lab, 4.0)` y guarda el resultado en `top`.\n",
        "6. Calcula el **promedio** de `nota` de `top` y muéstralo.\n",
        "7. Exporta `top` a un archivo CSV llamado `mejores_estudiantes.csv`.\n",
        "\n",
        "> Extra (opcional): añade una columna `estado` con el texto `\"APROBADO\"` si `nota >= 4.0`, en caso contrario `\"EN PROCESO\"`."
      ]
    },
    {
      "cell_type": "code",
      "execution_count": null,
      "id": "f83abce4",
      "metadata": {
        "id": "f83abce4"
      },
      "outputs": [],
      "source": [
        "# Escribe tu solución del laboratorio aquí\n",
        "# Paso 1: datos = [ {...}, ... ]\n",
        "# Paso 2: df_lab = pd.DataFrame(datos)\n",
        "# Paso 3: recorrer con for / iterrows()\n",
        "# Paso 4: def mejores(df, umbral): ...\n",
        "# Paso 5: top = mejores(df_lab, 4.0)\n",
        "# Paso 6: promedio_top = ...\n",
        "# Paso 7: exportar CSV -> df.to_csv(\"mejores_estudiantes.csv\", index=False)\n",
        "# Extra: crear columna 'estado'\n",
        "# TODO"
      ]
    }
  ],
  "metadata": {
    "colab": {
      "provenance": [],
      "include_colab_link": true
    },
    "kernelspec": {
      "display_name": "Python 3",
      "language": "python",
      "name": "python3"
    }
  },
  "nbformat": 4,
  "nbformat_minor": 5
}