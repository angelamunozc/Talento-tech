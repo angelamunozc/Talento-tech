{
  "nbformat": 4,
  "nbformat_minor": 0,
  "metadata": {
    "colab": {
      "provenance": [],
      "authorship_tag": "ABX9TyMoEI9LDbDVnrO5wCCOriKm",
      "include_colab_link": true
    },
    "kernelspec": {
      "name": "python3",
      "display_name": "Python 3"
    },
    "language_info": {
      "name": "python"
    }
  },
  "cells": [
    {
      "cell_type": "markdown",
      "metadata": {
        "id": "view-in-github",
        "colab_type": "text"
      },
      "source": [
        "<a href=\"https://colab.research.google.com/github/angelamunozc/Talento-tech/blob/main/entrenamiento/Python_inicios.ipynb\" target=\"_parent\"><img src=\"https://colab.research.google.com/assets/colab-badge.svg\" alt=\"Open In Colab\"/></a>"
      ]
    },
    {
      "cell_type": "code",
      "execution_count": null,
      "metadata": {
        "colab": {
          "base_uri": "https://localhost:8080/"
        },
        "id": "CO0zhMNnp_ym",
        "outputId": "4c46498e-2180-4134-8f11-835d7d06980b"
      },
      "outputs": [
        {
          "output_type": "stream",
          "name": "stdout",
          "text": [
            "Hola mundo\n"
          ]
        }
      ],
      "source": [
        "# Hola mundo   ---- esto es un comentario\n",
        "print (\"Hola mundo\")"
      ]
    },
    {
      "cell_type": "code",
      "source": [
        "#Variables y tipos de datos\n",
        "nombre = \"Alex\"   #entre comillas todo texto...una variable se asigna un valor  sin comillas es un numero---variabloes siempre en minusculas\n",
        "edad = 20          # se entiende que es un numero entero porque no esta entre comillas\n",
        "altura_m = 1.77    # ya entiende que es un decimal\n",
        "es_estudiante = True   #util para toma de decisiones\n",
        "es_doctor = False\n",
        "\n",
        "print (type(nombre), type(edad), type (altura_m), type(es_estudiante), type(es_doctor))   # type es para saber que tipo de dato es la variable     stream es una cadena de texto cuando no se necesita hacer operaciones"
      ],
      "metadata": {
        "colab": {
          "base_uri": "https://localhost:8080/"
        },
        "id": "48r1PrSnrfUh",
        "outputId": "87f56899-57cf-4fed-9f1a-4f403a0c76df"
      },
      "execution_count": null,
      "outputs": [
        {
          "output_type": "stream",
          "name": "stdout",
          "text": [
            "<class 'str'> <class 'int'> <class 'float'> <class 'bool'> <class 'bool'>\n"
          ]
        }
      ]
    },
    {
      "cell_type": "markdown",
      "source": [
        "str = cadena de texto\n",
        "int= entero\n",
        "float=decimal\n",
        "bool= bulian ..verdadero y falso\n"
      ],
      "metadata": {
        "id": "xBvH5cpDuBfQ"
      }
    },
    {
      "cell_type": "code",
      "source": [
        "# operadores matematicos\n",
        "\n",
        "a, b= 7,3\n",
        "print (\"suma\", a+b)\n",
        "print (\"resta\", a-b)\n",
        "print (\"multiplicacion\", a*b)\n",
        "print (\"division\", a/b)\n",
        "print (\"division entera\", a//b)\n",
        "print (\"modulo\", a%b)   # resiudo de la operacion, saber si el numero es par o impar\n",
        "print (\"potencia\", a**b)\n",
        "print (\"¿a > b?\", a>b)\n",
        "print (\"¿a < b?\", a<b)\n",
        "print (\"¿a >= b?\", a>=b)\n",
        "print (\"¿a <= b?\", a<=b)\n",
        "print (\"¿a == b?\", a==b)\n",
        "print (\"¿a != b?\", a!=b)"
      ],
      "metadata": {
        "colab": {
          "base_uri": "https://localhost:8080/"
        },
        "id": "x1vvmwFzvVOn",
        "outputId": "4e0d3a57-02f0-4455-86fb-74598873740c"
      },
      "execution_count": null,
      "outputs": [
        {
          "output_type": "stream",
          "name": "stdout",
          "text": [
            "suma 10\n",
            "resta 4\n",
            "multiplicacion 21\n",
            "division 2.3333333333333335\n",
            "division entera 2\n",
            "modulo 1\n",
            "potencia 343\n",
            "¿a > b? True\n",
            "¿a < b? False\n",
            "¿a >= b? True\n",
            "¿a <= b? False\n",
            "¿a == b? False\n",
            "¿a != b? True\n"
          ]
        }
      ]
    },
    {
      "cell_type": "code",
      "source": [
        "name = \"Angela\"\n",
        "age= 25\n",
        "city = \"Pasto\"\n",
        "\n",
        "print (f\"Mi nombre es {name}, tengo {age} años y vivo en {city}.\")"
      ],
      "metadata": {
        "colab": {
          "base_uri": "https://localhost:8080/"
        },
        "id": "M0yDjESmxDFu",
        "outputId": "9dbcbdfa-4941-4462-9b7d-705e087e11b0"
      },
      "execution_count": null,
      "outputs": [
        {
          "output_type": "stream",
          "name": "stdout",
          "text": [
            "Mi nombre es Angela, tengo 25 años y vivo en Pasto.\n"
          ]
        }
      ]
    },
    {
      "cell_type": "code",
      "source": [
        "name = \"Angela\"\n",
        "age= 25\n",
        "city = \"Pasto\"\n",
        "\n",
        "print (\"Mi nombre:\", name,\n",
        "       \"mi edad es: \", age,\n",
        "       \"mi ciudad es: \",city)"
      ],
      "metadata": {
        "colab": {
          "base_uri": "https://localhost:8080/"
        },
        "id": "dR8Kuly6wtof",
        "outputId": "b42c13a6-fb87-447f-eaec-b4d04a76836e"
      },
      "execution_count": null,
      "outputs": [
        {
          "output_type": "stream",
          "name": "stdout",
          "text": [
            "Mi nombre: Angela mi edad es:  25 mi ciudad es:  Pasto\n"
          ]
        }
      ]
    },
    {
      "cell_type": "code",
      "source": [
        "a, b= 15, 4\n",
        "print (\"suma\", a+b , type (a+b))\n",
        "print (\"resta\", a-b, type(a-b))\n",
        "print (\"multiplicacion\", a*b, type(a*b))\n",
        "print (\"division\", a/b , type(a/b))\n",
        "print (\"division entera\", a//b, type(a//b))\n",
        "print (\"modulo\",a%b, type (a%b) )   #residuo de la division\n",
        "print (\"potencia\", a**b, type(a**b))\n",
        "\n",
        "print (type(a), type(b))"
      ],
      "metadata": {
        "colab": {
          "base_uri": "https://localhost:8080/"
        },
        "id": "g4AnbHoGzK9t",
        "outputId": "df09484f-92d1-4c23-bc95-4507880d1093"
      },
      "execution_count": null,
      "outputs": [
        {
          "output_type": "stream",
          "name": "stdout",
          "text": [
            "suma 19 <class 'int'>\n",
            "resta 11 <class 'int'>\n",
            "multiplicacion 60 <class 'int'>\n",
            "division 3.75 <class 'float'>\n",
            "division entera 3 <class 'int'>\n",
            "modulo 3 <class 'int'>\n",
            "potencia 50625 <class 'int'>\n",
            "<class 'int'> <class 'int'>\n"
          ]
        }
      ]
    },
    {
      "cell_type": "code",
      "source": [
        "frase =\"Aprender Pyhon es divertido\"\n",
        "\n",
        "print (frase)\n",
        "print (frase. upper ())\n",
        "print (frase.lower ())\n",
        "print (frase.title ())\n",
        "print (frase[:8], \"|\", frase [-9:], \"|\", frase[8:15], \"|\", frase[15:17], \"|\", frase[-12:], \"|\", frase[-8:], \"|\", frase[1:-5])    #cada letra es un valor"
      ],
      "metadata": {
        "colab": {
          "base_uri": "https://localhost:8080/"
        },
        "id": "Ox3qkr2_3jpU",
        "outputId": "e29784c7-501a-4b2d-d766-3031490b6941"
      },
      "execution_count": null,
      "outputs": [
        {
          "output_type": "stream",
          "name": "stdout",
          "text": [
            "Aprender Pyhon es divertido\n",
            "APRENDER PYHON ES DIVERTIDO\n",
            "aprender pyhon es divertido\n",
            "Aprender Pyhon Es Divertido\n",
            "Aprender | divertido |  Pyhon  | es | es divertido | ivertido | prender Pyhon es dive\n"
          ]
        }
      ]
    },
    {
      "cell_type": "code",
      "source": [
        "#ESTRUCTURA DE DATOS\n",
        "lista= [\"Ana\", \"Luis\", \"Sofia\"]    # orden y se puede modificar   ej lista de mercado\n",
        "tupla= (\"Ana\", \"Luis\", \"Sofia\")    #orden pero NO se cambia       ej coordenadas,, ej un menu\n",
        "set_conjunto= {\"Ana\", \"Luis\", \"Sofia\", \"Ana\"}  # sin orden y sin duplicados   ej inventario\n",
        "lista.append (\"Diego\")\n",
        "\n",
        "print (lista)\n",
        "print (tupla)\n",
        "print (set_conjunto)"
      ],
      "metadata": {
        "colab": {
          "base_uri": "https://localhost:8080/"
        },
        "id": "lXzuNtNh6OzS",
        "outputId": "e54ca83b-28e0-45d7-eb86-d9bb04322ac5"
      },
      "execution_count": null,
      "outputs": [
        {
          "output_type": "stream",
          "name": "stdout",
          "text": [
            "['Ana', 'Luis', 'Sofia', 'Diego']\n",
            "('Ana', 'Luis', 'Sofia')\n",
            "{'Luis', 'Ana', 'Sofia'}\n"
          ]
        }
      ]
    },
    {
      "cell_type": "code",
      "source": [
        "compras = [\"manzanas\", \"pan\", \"leche\"]\n",
        "print (\"inicio:\" , compras)\n",
        "\n",
        "compras.append (\"huevos\")    #agergar al final\n",
        "compras.insert (1, \"bananos\")   #insertar en la posicion 1 bananos---no sobreescribe\n",
        "print (\"despues de agregar:\", compras)\n",
        "\n",
        "compras [0] = \"peras\"           #cambiar un elemento...cambia manzana que esta en la posicion 0 por peras---si sobreescribe\n",
        "quitado =compras.pop ()           #sacar el ultimo\n",
        "print (\"cambiado y quitado:\", compras, \"|  salio:\", quitado)\n",
        "\n",
        "#slices (rebanadas): partes de la lista\n",
        "print (\"primeros dos:\", compras [:2])\n",
        "print (\"ultimos dos:\", compras [-2:])"
      ],
      "metadata": {
        "colab": {
          "base_uri": "https://localhost:8080/"
        },
        "id": "-GiJKM2c-0ow",
        "outputId": "e78b29fd-6aff-4509-867e-61bac0508ec5"
      },
      "execution_count": null,
      "outputs": [
        {
          "output_type": "stream",
          "name": "stdout",
          "text": [
            "inicio: ['manzanas', 'pan', 'leche']\n",
            "despues de agregar: ['manzanas', 'bananos', 'pan', 'leche', 'huevos']\n",
            "cambiado y quitado: ['peras', 'bananos', 'pan', 'leche'] |  salio: huevos\n",
            "primeros dos: ['peras', 'bananos']\n",
            "ultimos dos: ['pan', 'leche']\n"
          ]
        }
      ]
    },
    {
      "cell_type": "code",
      "source": [
        "compras = [\"jamon\", \"pan\", \"queso\", \"maracuya\", \"fresas\"]\n",
        "print (\"inicio:\" , compras)\n",
        "\n",
        "compras.insert (0, \"guanabana\")   #insertar en la posicion 0 guanabana---no sobreescribe\n",
        "print (\"despues de agregar:\", compras)\n",
        "\n",
        "quitado =compras.pop ()           #sacar el ultimo\n",
        "print (\"Quitado:\", compras, \"|  salio:\", quitado)\n",
        "\n",
        "#slices (rebanadas): partes de la lista\n",
        "print (\"tres del medio:\", compras [1:4])   #mostrar los 3 del medio\n"
      ],
      "metadata": {
        "colab": {
          "base_uri": "https://localhost:8080/"
        },
        "id": "9CPHo8u-CtRW",
        "outputId": "41354395-6af2-4135-c20e-fcde89a1710c"
      },
      "execution_count": null,
      "outputs": [
        {
          "output_type": "stream",
          "name": "stdout",
          "text": [
            "inicio: ['jamon', 'pan', 'queso', 'maracuya', 'fresas']\n",
            "despues de agregar: ['guanabana', 'jamon', 'pan', 'queso', 'maracuya', 'fresas']\n",
            "Quitado: ['guanabana', 'jamon', 'pan', 'queso', 'maracuya'] |  salio: fresas\n",
            "tres del medio: ['jamon', 'pan', 'queso']\n"
          ]
        }
      ]
    },
    {
      "cell_type": "code",
      "source": [
        "# para saber si el dato existe en un conjunto de datos o no\n",
        "\n",
        "a = {\"futbol\", \"natacion\", \"ajedrez\"}\n",
        "b = {\"ajedrez\", \"basquet\", \"atletismo\"}\n",
        "\n",
        "print (\"union:\", a | b)\n",
        "print (\"interseccion:\", a & b)\n",
        "print (\"diferencia:\", a - b)   #solo a\n",
        "print (\"diferencia simetrica:\", a ^ b)\n",
        "\n"
      ],
      "metadata": {
        "colab": {
          "base_uri": "https://localhost:8080/"
        },
        "id": "GaZHVGZoGXQV",
        "outputId": "ea34252c-ddee-49ab-8b52-856c4bb4eec6"
      },
      "execution_count": null,
      "outputs": [
        {
          "output_type": "stream",
          "name": "stdout",
          "text": [
            "union: {'basquet', 'futbol', 'atletismo', 'ajedrez', 'natacion'}\n",
            "interseccion: {'ajedrez'}\n",
            "diferencia: {'futbol', 'natacion'}\n",
            "diferencia simetrica: {'basquet', 'atletismo', 'futbol', 'natacion'}\n"
          ]
        }
      ]
    }
  ]
}